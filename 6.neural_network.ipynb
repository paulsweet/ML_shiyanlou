{
 "cells": [
  {
   "cell_type": "markdown",
   "metadata": {},
   "source": [
    "# Neural Network"
   ]
  },
  {
   "cell_type": "markdown",
   "metadata": {},
   "source": [
    "## 代码框架\n",
    "1. 初始化函数--设定输入层节点、隐藏层节点和输出层节点的数量\n",
    "2. 训练--学习给定的训练集样本后，优化权重\n",
    "3. 查询--给定输入，给出输入节点给出答案"
   ]
  },
  {
   "cell_type": "code",
   "execution_count": 1,
   "metadata": {},
   "outputs": [],
   "source": [
    "# neural network class defination\n",
    "class NeuralNetwork:\n",
    "    \n",
    "    # initialise the neural network\n",
    "    def __init__():\n",
    "        pass\n",
    "    \n",
    "    # train the neural network\n",
    "    def train():\n",
    "        pass\n",
    "    \n",
    "    # query the neural network\n",
    "    def query():\n",
    "        pass"
   ]
  },
  {
   "cell_type": "markdown",
   "metadata": {},
   "source": [
    "### 1. 初始化网络\n",
    "设置网络的输入层节点，输出层节点，输出层节点的数量，也就是定义了神经网络的形状和尺寸"
   ]
  },
  {
   "cell_type": "code",
   "execution_count": 4,
   "metadata": {},
   "outputs": [],
   "source": [
    "# neural network class defination\n",
    "class NeuralNetwork:\n",
    "    \n",
    "    # initialise the neural network\n",
    "    def __init__(self,inputnodes, hiddennodes, outputnodes, learningrate):\n",
    "        # set number of nodes in each input, hidden, output layer\n",
    "        self.inodes = inputnodes\n",
    "        self.hnodes = hiddennodes\n",
    "        self.onodes = outputnodes\n",
    "        \n",
    "        # learning rate\n",
    "        self.lr = learningrate\n",
    "        pass\n",
    "    \n",
    "    # train the neural network\n",
    "    def train():\n",
    "        pass\n",
    "    \n",
    "    # query the neural network\n",
    "    def query():\n",
    "        pass"
   ]
  },
  {
   "cell_type": "code",
   "execution_count": 6,
   "metadata": {},
   "outputs": [],
   "source": [
    "# try to creat a (3,3,3) lr = 0.5 neural network\n",
    "\n",
    "# number of input, hidden and output nodes\n",
    "input_nodes = 3\n",
    "hidden_nodes = 3\n",
    "output_nodes = 3\n",
    "\n",
    "# learning rate is 0.5\n",
    "learning_rate = 0.5\n",
    "\n",
    "# create instance of neural network\n",
    "n = NeuralNetwork(inputnodes=input_nodes,hiddennodes=hidden_nodes,\n",
    "                  outputnodes=output_nodes,learningrate=learning_rate)"
   ]
  },
  {
   "cell_type": "markdown",
   "metadata": {},
   "source": [
    "## 2. 权重--网络的核心\n",
    "这里创建网络的链接权重矩阵\n",
    "\n",
    "- 在输入层与隐藏层之间的链接权重矩阵为 `wih`,其大小为hidden_nodes \\* input_nodes\n",
    "- 在隐藏层与输出层之间的链接权重矩阵为 `who`,其大小为hidden_nodes \\* output_nodes"
   ]
  },
  {
   "cell_type": "code",
   "execution_count": 193,
   "metadata": {},
   "outputs": [],
   "source": [
    "import numpy as np\n",
    "import scipy.special\n",
    "\n",
    "# neural network class defination\n",
    "class NeuralNetwork:\n",
    "    \n",
    "    # initialise the neural network\n",
    "    def __init__(self,inputnodes, hiddennodes, outputnodes, learningrate):\n",
    "        # set number of nodes in each input, hidden, output layer\n",
    "        self.inodes = inputnodes\n",
    "        self.hnodes = hiddennodes\n",
    "        self.onodes = outputnodes\n",
    "        \n",
    "        # learning rate\n",
    "        self.lr = learningrate\n",
    "        \n",
    "        # link weight matrices, wih and who\n",
    "        # weight inside the array are w_i_j, where link is from node\n",
    "        # i to node j in the next layer\n",
    "        # w11 w21\n",
    "        # w12 w22 etc\n",
    "#         self.wih = (np.random.rand(self.hnodes, self.inodes)-0.5)\n",
    "#         self.who = (np.random.rand(self.hnodes, self.inodes)-0.5)\n",
    "        \n",
    "        # 设置矩阵wih,who初始随机权重\n",
    "        self.wih = np.random.normal(0.0, pow(self.hnodes,-0.5),(self.hnodes,self.inodes))\n",
    "        self.who = np.random.normal(0.0, pow(self.onodes,-0.5),(self.onodes,self.hnodes)) #h,o,有问题\n",
    "        \n",
    "        # activation fuction is the sigmoid function\n",
    "        self.activation_function = lambda x: scipy.special.expit(x)\n",
    "        \n",
    "        pass\n",
    "    \n",
    "    # train the neural network\n",
    "    # 训练任务分为两个部分：\n",
    "        # 1.针对给定的训练计算输出，这部份和query部份一样\n",
    "        # 2.将计算得到的输出与所需输出对比，使用差值来指导网络权重的更新\n",
    "    def train(self,inputs_list, targets_list):\n",
    "        inputs = np.array(inputs_list,ndmin=2).T\n",
    "        targets = np.array(targets_list,ndmin=2).T\n",
    "        \n",
    "        ## PART1\n",
    "        # calculate signals into hidden layer\n",
    "        hidden_inputs = np.dot(self.wih,inputs)\n",
    "        # calculate the signals emerging from hidden layer\n",
    "        hidden_outputs = self.activation_function(hidden_inputs)\n",
    "        \n",
    "        # calculate signals into final output layer\n",
    "        final_inputs = np.dot(self.who, hidden_outputs)\n",
    "        # calculate the signals emerging from final output layer\n",
    "        final_outputs = self.activation_function(final_inputs)\n",
    "        \n",
    "        ## PART2\n",
    "        # error is the (target - actual)\n",
    "        output_errors = targets - final_outputs\n",
    "        # hidden layer error is the output_errors, split by weight,recombined at hidden nodes\n",
    "        hidden_errors = np.dot(self.who.T, output_errors)\n",
    "        \n",
    "        # update the weights for the links between the hidden and output layer\n",
    "        self.who += self.lr * np.dot((output_errors * final_outputs * (1.0 - final_outputs)),\n",
    "                                     np.transpose(hidden_outputs))\n",
    "        # update the weights for the links between the hidden and input layer\n",
    "        self.wih += self.lr * np.dot((hidden_errors * hidden_outputs * (1.0 - hidden_outputs)),\n",
    "                                     np.transpose(inputs))\n",
    "        pass\n",
    "    \n",
    "    # query the neural network\n",
    "    def query(self,inputs_list):\n",
    "        # convert inputs list to 2d array\n",
    "        inputs = np.array(inputs_list,ndmin=2).T\n",
    "        \n",
    "        # calculate signals into hidden layer\n",
    "        hidden_inputs = np.dot(self.wih,inputs)\n",
    "        # calculate the signals emerging from hidden layer\n",
    "        hidden_outputs = self.activation_function(hidden_inputs)\n",
    "        \n",
    "        # calculate signals into final output layer\n",
    "        final_inputs = np.dot(self.who, hidden_outputs)\n",
    "        # calculate the signals emerging from final output layer\n",
    "        final_outputs = self.activation_function(final_inputs)\n",
    "        \n",
    "        return final_outputs"
   ]
  },
  {
   "cell_type": "code",
   "execution_count": 36,
   "metadata": {},
   "outputs": [],
   "source": [
    "# !wget http://www.pjreddie.com/media/files/mnist_train.csv #60000条\n",
    "# !wget http://www.pjreddie.com/media/files/mnist_test.csv"
   ]
  },
  {
   "cell_type": "markdown",
   "metadata": {},
   "source": [
    "---"
   ]
  },
  {
   "cell_type": "markdown",
   "metadata": {},
   "source": [
    "## 神经网络的手写字符数据实践"
   ]
  },
  {
   "cell_type": "markdown",
   "metadata": {},
   "source": [
    "本次挑战中，我们将使用手写字符数据集 Digits。该数据集的全称为 [Pen-Based Recognition of Handwritten Digits Data Set](http://archive.ics.uci.edu/ml/datasets/Pen-Based+Recognition+of+Handwritten+Digits)，来源于 UCI 开放数据集网站。"
   ]
  },
  {
   "cell_type": "markdown",
   "metadata": {},
   "source": [
    "数据集包含由 `1797` 张数字 `0` 到 `9` 的手写字符影像转换后的数字矩阵，目标值是 `0-9`。为了方便，这里直接使用 scikit-learn 提供的 `load_digits` 方法加载该数据集。"
   ]
  },
  {
   "cell_type": "markdown",
   "metadata": {},
   "source": [
    "### 2.1数据查看"
   ]
  },
  {
   "cell_type": "code",
   "execution_count": 43,
   "metadata": {},
   "outputs": [],
   "source": [
    "from sklearn import datasets\n",
    "\n",
    "digits = datasets.load_digits()"
   ]
  },
  {
   "cell_type": "code",
   "execution_count": 45,
   "metadata": {},
   "outputs": [
    {
     "data": {
      "text/plain": [
       "<matplotlib.image.AxesImage at 0x7f09b9116f98>"
      ]
     },
     "execution_count": 45,
     "metadata": {},
     "output_type": "execute_result"
    },
    {
     "data": {
      "image/png": "[encoded data removed]",
      "text/plain": [
       "<Figure size 432x288 with 1 Axes>"
      ]
     },
     "metadata": {},
     "output_type": "display_data"
    }
   ],
   "source": [
    "from matplotlib import pyplot as plt\n",
    "%matplotlib inline\n",
    "\n",
    "image_array = digits.images[0]\n",
    "plt.imshow(image_array, cmap=plt.cm.gray_r)"
   ]
  },
  {
   "cell_type": "code",
   "execution_count": 83,
   "metadata": {},
   "outputs": [
    {
     "data": {
      "image/png": "[encoded data removed]",
      "text/plain": [
       "<Figure size 1800x360 with 5 Axes>"
      ]
     },
     "metadata": {},
     "output_type": "display_data"
    }
   ],
   "source": [
    "fig,ax = plt.subplots(1,5,figsize=(25,5))\n",
    "for i in range(0,5):\n",
    "    image_array = digits.images[i]\n",
    "    ax[i].imshow(image_array,cmap=plt.cm.gray_r)"
   ]
  },
  {
   "cell_type": "code",
   "execution_count": 120,
   "metadata": {},
   "outputs": [
    {
     "name": "stdout",
     "output_type": "stream",
     "text": [
      "数字矩阵数字范围 Max: 16.0 Min: 0.0\n"
     ]
    }
   ],
   "source": [
    "# 观察数字矩阵的数字范围\n",
    "# 思路：每一次，计算最大最小值；放入list;对list里再取最大最小\n",
    "\n",
    "max_list = []\n",
    "min_list = []\n",
    "for i in range(0,1797):\n",
    "    max_list.append(digits.images[i].max().tolist())\n",
    "    min_list.append(digits.images[i].min().tolist())\n",
    "\n",
    "print('数字矩阵数字范围 Max:',max(max_list),'Min:',min(min_list))"
   ]
  },
  {
   "cell_type": "markdown",
   "metadata": {},
   "source": [
    "### 2.2 数据准备"
   ]
  },
  {
   "cell_type": "code",
   "execution_count": 202,
   "metadata": {},
   "outputs": [
    {
     "name": "stdout",
     "output_type": "stream",
     "text": [
      "(1797, 64) (1797, 10)\n"
     ]
    }
   ],
   "source": [
    "# 训练数据准备思路：\n",
    "# 1.输入数据为列向量，将数据矩阵flatten成一维进行输入；\n",
    "# 2.targets的label是0-9，也就是10个输出选向，于是要转化为一维的[1,0,0,0,0,0,0,0,0,0]来表示0，但还需要用0.01、0.99分别替代0，1\n",
    "# 因为sigmoid函数是无法达到0，1的\n",
    "\n",
    "\n",
    "# 数字矩阵scale（input）\n",
    "# 由观察可知，数据矩阵中的数字范围是0-16，我们scale的目标是 0.01-1.0\n",
    "scale_data = (digits.data/16*0.99)+0.01\n",
    "\n",
    "\n",
    "# target\n",
    "# step1: +0.01\n",
    "# step2: 对label+0.99\n",
    "targets1 = np.zeros((digits.target.shape[0],10))+0.01\n",
    "\n",
    "for i in range(digits.target.shape[0]):\n",
    "    targets1[i,][digits.target[i]]=0.99\n",
    "\n",
    "print(scale_data.shape,targets1.shape)"
   ]
  },
  {
   "cell_type": "code",
   "execution_count": 203,
   "metadata": {},
   "outputs": [
    {
     "name": "stdout",
     "output_type": "stream",
     "text": [
      "1437 360 1437 360\n"
     ]
    }
   ],
   "source": [
    "# 生成训练集和测试集 train_test_split() 将数据集切分为 80%（训练集） 和 20%（测试集） 两部分\n",
    "from sklearn.model_selection import train_test_split\n",
    "# eg: X_train,X_test, y_train, y_test =train_test_split(train_data,train_target,test_size=0.4, random_state=0)\n",
    "\n",
    "X_train,X_test, y_train, y_test = train_test_split(scale_data,targets1,test_size=0.2,random_state=30)\n",
    "print(X_train.shape[0],X_test.shape[0],y_train.shape[0],y_test.shape[0])"
   ]
  },
  {
   "cell_type": "markdown",
   "metadata": {},
   "source": [
    "### 2.3 训练数据"
   ]
  },
  {
   "cell_type": "code",
   "execution_count": 204,
   "metadata": {},
   "outputs": [],
   "source": [
    "# step1:定义神经网络形态\n",
    "\n",
    "# number of input, hidden and output nodes\n",
    "input_nodes = 64\n",
    "hidden_nodes = 30\n",
    "output_nodes = 10\n",
    "\n",
    "learning_rate = 0.3\n",
    "\n",
    "n = NeuralNetwork(input_nodes,hidden_nodes,output_nodes,learning_rate)\n",
    "\n",
    "# step2: training\n",
    "for i in range(1437):\n",
    "    n.train(X_train[i],y_train[i])"
   ]
  },
  {
   "cell_type": "markdown",
   "metadata": {},
   "source": [
    "### 2.4 测试数据"
   ]
  },
  {
   "cell_type": "code",
   "execution_count": 225,
   "metadata": {},
   "outputs": [
    {
     "name": "stdout",
     "output_type": "stream",
     "text": [
      "[1, 0, 1, 1, 0, 0, 1, 1, 1, 1, 1, 1, 1, 1, 0, 1, 1, 1, 1, 0, 1, 1, 1, 1, 1, 1, 1, 1, 1, 1, 1, 1, 1, 1, 1, 1, 1, 1, 1, 1, 1, 1, 1, 1, 1, 1, 1, 1, 1, 1, 1, 1, 1, 1, 1, 1, 1, 1, 1, 1, 1, 1, 1, 1, 1, 1, 1, 1, 1, 0, 1, 1, 1, 1, 1, 1, 1, 1, 1, 1, 1, 1, 1, 1, 1, 1, 1, 1, 1, 1, 1, 1, 0, 1, 1, 1, 1, 1, 1, 1, 1, 1, 1, 1, 1, 1, 1, 1, 1, 1, 1, 1, 1, 0, 1, 1, 1, 1, 1, 1, 1, 1, 1, 1, 1, 1, 1, 1, 1, 1, 1, 0, 1, 1, 1, 1, 1, 1, 1, 1, 1, 1, 1, 1, 0, 1, 1, 1, 1, 1, 1, 1, 1, 1, 1, 1, 1, 1, 1, 1, 0, 1, 1, 1, 1, 1, 1, 1, 1, 1, 1, 1, 1, 1, 1, 0, 1, 1, 1, 1, 1, 1, 1, 1, 1, 1, 1, 1, 1, 1, 1, 1, 1, 1, 1, 1, 1, 1, 1, 1, 1, 1, 1, 1, 1, 1, 1, 1, 1, 0, 1, 1, 1, 1, 1, 1, 1, 1, 1, 1, 1, 1, 1, 0, 1, 0, 1, 0, 1, 0, 1, 1, 1, 1, 0, 0, 1, 1, 1, 1, 1, 1, 1, 1, 1, 1, 1, 1, 1, 1, 1, 1, 1, 1, 1, 1, 1, 1, 1, 0, 1, 1, 0, 1, 1, 1, 1, 1, 1, 0, 1, 1, 1, 1, 1, 1, 1, 1, 1, 1, 1, 1, 1, 1, 1, 1, 1, 1, 1, 1, 1, 1, 1, 1, 0, 0, 1, 1, 1, 1, 0, 1, 1, 1, 1, 1, 1, 1, 1, 1, 1, 1, 1, 1, 1, 1, 1, 1, 1, 1, 1, 1, 1, 1, 0, 1, 1, 1, 0, 1, 1, 1, 1, 1, 1, 1, 1, 1, 1, 1, 1, 1, 1, 0, 1, 0, 1, 1, 1, 1, 1, 1, 1, 1, 1, 1, 1, 0, 0, 1] \n",
      "Accuracy: 0.9138888888888889 \n",
      "Time: 0.01427149772644043\n"
     ]
    }
   ],
   "source": [
    "# 思路：用scorecard来记录正确的记录；\n",
    "# step1: 将y_test转为相应的int\n",
    "# step2: 将输出的向量转为相应的int\n",
    "import time\n",
    "scorecard = []\n",
    "start_time = time.time()\n",
    "for i in range(360):\n",
    "    # correct label\n",
    "    correct_label = np.argmax(y_test[i])\n",
    "    \n",
    "    # test\n",
    "    output_array = n.query(X_test[i])\n",
    "    label = np.argmax(output_array)\n",
    "    \n",
    "    # append correct label into list\n",
    "    if (label == correct_label):\n",
    "        scorecard.append(1)\n",
    "    else:\n",
    "        scorecard.append(0)\n",
    "        pass\n",
    "end_time = time.time()\n",
    "during_time = end_time - start_time\n",
    "\n",
    "print(scorecard,'\\nAccuracy:',sum(scorecard)/360,'\\nTime:',during_time)"
   ]
  },
  {
   "cell_type": "code",
   "execution_count": null,
   "metadata": {},
   "outputs": [],
   "source": []
  },
  {
   "cell_type": "code",
   "execution_count": null,
   "metadata": {},
   "outputs": [],
   "source": []
  },
  {
   "cell_type": "code",
   "execution_count": null,
   "metadata": {},
   "outputs": [],
   "source": []
  },
  {
   "cell_type": "code",
   "execution_count": null,
   "metadata": {},
   "outputs": [],
   "source": []
  },
  {
   "cell_type": "code",
   "execution_count": null,
   "metadata": {},
   "outputs": [],
   "source": []
  },
  {
   "cell_type": "code",
   "execution_count": null,
   "metadata": {},
   "outputs": [],
   "source": []
  }
 ],
 "metadata": {
  "kernelspec": {
   "display_name": "Python 3",
   "language": "python",
   "name": "python3"
  },
  "language_info": {
   "codemirror_mode": {
    "name": "ipython",
    "version": 3
   },
   "file_extension": ".py",
   "mimetype": "text/x-python",
   "name": "python",
   "nbconvert_exporter": "python",
   "pygments_lexer": "ipython3",
   "version": "3.6.6"
  }
 },
 "nbformat": 4,
 "nbformat_minor": 2
}
