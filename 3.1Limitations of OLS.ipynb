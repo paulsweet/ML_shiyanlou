{
 "cells": [
  {
   "cell_type": "markdown",
   "metadata": {},
   "source": [
    "## 普通最小二乘法的局限性"
   ]
  },
  {
   "cell_type": "markdown",
   "metadata": {},
   "source": [
    "我们学习了使用最小二乘法来求解线性回归以及多项式回归问题。同时，在多项式回归的章节中，我们了解到多项回归其实可以看作是一种特殊的线性回归形式，也就是说回归方法的核心就是线性回归。"
   ]
  },
  {
   "cell_type": "markdown",
   "metadata": {},
   "source": [
    "- <a href=\"#普通最小二乘法的矩阵表示\">普通最小二乘法的矩阵表示</a>\n",
    "- <a href=\"#希尔伯特矩阵的OLS线性拟合示例----说明最小二乘法的局限性\">希尔伯特矩阵的OLS 线性拟合示例----说明最小二乘法的局限性</a>\n",
    "    - <a href=\"#2.1皮尔逊相关系数\">2.1皮尔逊相关系数</a>\n",
    "    - <a href=\"#2.2最小二乘线性拟合\">2.2最小二乘线性拟合</a>"
   ]
  },
  {
   "cell_type": "markdown",
   "metadata": {},
   "source": [
    "---"
   ]
  },
  {
   "cell_type": "markdown",
   "metadata": {},
   "source": [
    "### 普通最小二乘法的矩阵表示"
   ]
  },
  {
   "cell_type": "markdown",
   "metadata": {},
   "source": [
    "首先，回顾一下线性回归的内容。在线性回归中，我们需要求解："
   ]
  },
  {
   "cell_type": "markdown",
   "metadata": {},
   "source": [
    "$$ f(x)=\\sum_{i=1}^{m}w_i x_i =w^Tx \\tag1$$"
   ]
  },
  {
   "cell_type": "markdown",
   "metadata": {},
   "source": [
    "当我们使用普通最小二乘法（OLS）进行学习时（平方损失函数），就变成最小化目标函数："
   ]
  },
  {
   "cell_type": "markdown",
   "metadata": {},
   "source": [
    "$$F=\\sum_{i=1}^{n}(y_{i}-w^Tx)^2  \\tag2$$"
   ]
  },
  {
   "cell_type": "markdown",
   "metadata": {},
   "source": [
    "我们可以把 $(2)$ 式改写为向量表示："
   ]
  },
  {
   "cell_type": "markdown",
   "metadata": {},
   "source": [
    "$$F={\\left \\| y-Xw \\right \\|_{2}}^{2}  \\tag3$$"
   ]
  },
  {
   "cell_type": "markdown",
   "metadata": {},
   "source": [
    "<div style=\"color: #999;font-size: 12px;font-style: italic;\">* $\\left \\| y-Xw \\right \\|_{2}$ 表示 2-范数，即向量元素绝对值的平方和再开方。</div>"
   ]
  },
  {
   "cell_type": "markdown",
   "metadata": {},
   "source": [
    "$(3)$ 式中，$X$ 为 $(x_{1},x_{2},……,x_{n})^{T}$ 数据构成的矩阵；$y$ 为 $(y_{1},y_{2},……,y_{n})^{T}$ 构成的列向量。同时，公式 $(3)$ 的解析解为："
   ]
  },
  {
   "cell_type": "markdown",
   "metadata": {},
   "source": [
    "$$\\hat{w} = (X^{T}X)^{-1}X^{T}y \\tag4$$"
   ]
  },
  {
   "cell_type": "markdown",
   "metadata": {},
   "source": [
    "公式 $(4)$ 成立的条件就是 $\\left | X^{T}X \\right |$ 不能为 `0`。\n",
    "而当变量之间的相关性较强（多重共线性），或者 $m$ 大于 $n$ 时，$(4)$ 式中的 $X$ 不是满秩（$rank(A)\\neq dim(x)$）矩阵。从而使得 $\\left | X^{T}X \\right |$ 的结果趋近于 `0`，造成拟合参数的数值不稳定性增加，这也就是普通最小二乘法的局限。"
   ]
  },
  {
   "cell_type": "markdown",
   "metadata": {},
   "source": [
    "---"
   ]
  },
  {
   "cell_type": "markdown",
   "metadata": {},
   "source": [
    "### 希尔伯特矩阵的OLS线性拟合示例----说明最小二乘法的局限性"
   ]
  },
  {
   "cell_type": "markdown",
   "metadata": {},
   "source": [
    "线性代数中，希尔伯特矩阵是一种系数都是单位分数的方块矩阵。具体来说一个希尔伯特矩阵 $H$ 的第 $i$ 横行第 $j$ 纵列的系数是：\n",
    "\n",
    "$$H_{{ij}}={\\frac  {1}{i+j-1}} \\tag5$$"
   ]
  },
  {
   "cell_type": "markdown",
   "metadata": {},
   "source": [
    "一个 `5x5` 的希尔伯特矩阵如公式$(6)$所示：\n",
    "\n",
    "$$\n",
    "H_{5}={\\begin{bmatrix}1&{\\frac  {1}{2}}&{\\frac  {1}{3}}&{\\frac  {1}{4}}&{\\frac  {1}{5}}\\\\[4pt]{\\frac  {1}{2}}&{\\frac  {1}{3}}&{\\frac  {1}{4}}&{\\frac  {1}{5}}&{\\frac  {1}{6}}\\\\[4pt]{\\frac  {1}{3}}&{\\frac  {1}{4}}&{\\frac  {1}{5}}&{\\frac  {1}{6}}&{\\frac  {1}{7}}\\\\[4pt]{\\frac  {1}{4}}&{\\frac  {1}{5}}&{\\frac  {1}{6}}&{\\frac  {1}{7}}&{\\frac  {1}{8}}\\\\[4pt]{\\frac  {1}{5}}&{\\frac  {1}{6}}&{\\frac  {1}{7}}&{\\frac  {1}{8}}&{\\frac  {1}{9}}\\end{bmatrix}}\\tag6\n",
    "$$"
   ]
  },
  {
   "cell_type": "markdown",
   "metadata": {},
   "source": [
    "这里介绍希尔伯特矩阵的原因，是因为下面打算使用希尔伯特矩阵的数值完成一个最小二乘法的线性拟合实验。而希尔伯特矩阵每列数据之间存在较强的线性相关性，正好符合 `1.1` 节中提到的 $\\left | X^{T}X \\right |$ 的结果趋近于 `0`。"
   ]
  },
  {
   "cell_type": "markdown",
   "metadata": {},
   "source": [
    "这里，我们使用 `Scipy` 提供的 `hilbert()` 方法，直接创建一个 `10x10` 的希尔伯特矩阵"
   ]
  },
  {
   "cell_type": "code",
   "execution_count": 3,
   "metadata": {},
   "outputs": [
    {
     "data": {
      "text/plain": [
       "array([[1.        , 0.5       , 0.33333333, 0.25      , 0.2       ,\n",
       "        0.16666667, 0.14285714, 0.125     , 0.11111111, 0.1       ],\n",
       "       [0.5       , 0.33333333, 0.25      , 0.2       , 0.16666667,\n",
       "        0.14285714, 0.125     , 0.11111111, 0.1       , 0.09090909],\n",
       "       [0.33333333, 0.25      , 0.2       , 0.16666667, 0.14285714,\n",
       "        0.125     , 0.11111111, 0.1       , 0.09090909, 0.08333333],\n",
       "       [0.25      , 0.2       , 0.16666667, 0.14285714, 0.125     ,\n",
       "        0.11111111, 0.1       , 0.09090909, 0.08333333, 0.07692308],\n",
       "       [0.2       , 0.16666667, 0.14285714, 0.125     , 0.11111111,\n",
       "        0.1       , 0.09090909, 0.08333333, 0.07692308, 0.07142857],\n",
       "       [0.16666667, 0.14285714, 0.125     , 0.11111111, 0.1       ,\n",
       "        0.09090909, 0.08333333, 0.07692308, 0.07142857, 0.06666667],\n",
       "       [0.14285714, 0.125     , 0.11111111, 0.1       , 0.09090909,\n",
       "        0.08333333, 0.07692308, 0.07142857, 0.06666667, 0.0625    ],\n",
       "       [0.125     , 0.11111111, 0.1       , 0.09090909, 0.08333333,\n",
       "        0.07692308, 0.07142857, 0.06666667, 0.0625    , 0.05882353],\n",
       "       [0.11111111, 0.1       , 0.09090909, 0.08333333, 0.07692308,\n",
       "        0.07142857, 0.06666667, 0.0625    , 0.05882353, 0.05555556],\n",
       "       [0.1       , 0.09090909, 0.08333333, 0.07692308, 0.07142857,\n",
       "        0.06666667, 0.0625    , 0.05882353, 0.05555556, 0.05263158]])"
      ]
     },
     "execution_count": 3,
     "metadata": {},
     "output_type": "execute_result"
    }
   ],
   "source": [
    "\"\"\"生成 10x10 的希尔伯特矩阵\n",
    "\"\"\"\n",
    "from scipy.linalg import hilbert\n",
    "\n",
    "x = hilbert(10)\n",
    "x"
   ]
  },
  {
   "cell_type": "code",
   "execution_count": 4,
   "metadata": {},
   "outputs": [
    {
     "data": {
      "text/plain": [
       "-7.933946394895335e-92"
      ]
     },
     "execution_count": 4,
     "metadata": {},
     "output_type": "execute_result"
    }
   ],
   "source": [
    "\"\"\"希尔伯特转置矩阵与原矩阵相乘\n",
    "\"\"\"\n",
    "import numpy as np\n",
    "\n",
    "np.linalg.det(np.matrix(x).T * np.matrix(x))"
   ]
  },
  {
   "cell_type": "markdown",
   "metadata": {},
   "source": [
    "可以看到，这里的 $\\left | X^{T}X \\right |$ 的结果的确趋近于 `0`。"
   ]
  },
  {
   "cell_type": "markdown",
   "metadata": {},
   "source": [
    "### 2.1皮尔逊相关系数"
   ]
  },
  {
   "cell_type": "markdown",
   "metadata": {},
   "source": [
    "皮尔逊相关系数（Pearson Correlation Coefficient）通常用于度量两个变量 `X` 和 `Y` 之间的线性相关程度，其值介于 `-1` 与 `1` 之间。其中，数值越趋近于 `1` 表示相关程度越高，反之趋近于 `-1` 则表示线性相关度越低。\n",
    "\n",
    "Pandas 提供了直接计算相关系数的方法，从而计算出上方 `10x10` 的希尔伯特矩阵中，数据列之间的相关性系数。"
   ]
  },
  {
   "cell_type": "code",
   "execution_count": 5,
   "metadata": {},
   "outputs": [
    {
     "data": {
      "text/html": [
       "<div>\n",
       "<style scoped>\n",
       "    .dataframe tbody tr th:only-of-type {\n",
       "        vertical-align: middle;\n",
       "    }\n",
       "\n",
       "    .dataframe tbody tr th {\n",
       "        vertical-align: top;\n",
       "    }\n",
       "\n",
       "    .dataframe thead th {\n",
       "        text-align: right;\n",
       "    }\n",
       "</style>\n",
       "<table border=\"1\" class=\"dataframe\">\n",
       "  <thead>\n",
       "    <tr style=\"text-align: right;\">\n",
       "      <th></th>\n",
       "      <th>x1</th>\n",
       "      <th>x2</th>\n",
       "      <th>x3</th>\n",
       "      <th>x4</th>\n",
       "      <th>x5</th>\n",
       "      <th>x6</th>\n",
       "      <th>x7</th>\n",
       "      <th>x8</th>\n",
       "      <th>x9</th>\n",
       "      <th>x10</th>\n",
       "    </tr>\n",
       "  </thead>\n",
       "  <tbody>\n",
       "    <tr>\n",
       "      <th>x1</th>\n",
       "      <td>1.000000</td>\n",
       "      <td>0.985344</td>\n",
       "      <td>0.965392</td>\n",
       "      <td>0.948277</td>\n",
       "      <td>0.934230</td>\n",
       "      <td>0.922665</td>\n",
       "      <td>0.913025</td>\n",
       "      <td>0.904883</td>\n",
       "      <td>0.897921</td>\n",
       "      <td>0.891902</td>\n",
       "    </tr>\n",
       "    <tr>\n",
       "      <th>x2</th>\n",
       "      <td>0.985344</td>\n",
       "      <td>1.000000</td>\n",
       "      <td>0.995632</td>\n",
       "      <td>0.988183</td>\n",
       "      <td>0.980720</td>\n",
       "      <td>0.973927</td>\n",
       "      <td>0.967905</td>\n",
       "      <td>0.962598</td>\n",
       "      <td>0.957918</td>\n",
       "      <td>0.953774</td>\n",
       "    </tr>\n",
       "    <tr>\n",
       "      <th>x3</th>\n",
       "      <td>0.965392</td>\n",
       "      <td>0.995632</td>\n",
       "      <td>1.000000</td>\n",
       "      <td>0.998160</td>\n",
       "      <td>0.994616</td>\n",
       "      <td>0.990719</td>\n",
       "      <td>0.986928</td>\n",
       "      <td>0.983393</td>\n",
       "      <td>0.980155</td>\n",
       "      <td>0.977207</td>\n",
       "    </tr>\n",
       "    <tr>\n",
       "      <th>x4</th>\n",
       "      <td>0.948277</td>\n",
       "      <td>0.988183</td>\n",
       "      <td>0.998160</td>\n",
       "      <td>1.000000</td>\n",
       "      <td>0.999065</td>\n",
       "      <td>0.997120</td>\n",
       "      <td>0.994845</td>\n",
       "      <td>0.992525</td>\n",
       "      <td>0.990281</td>\n",
       "      <td>0.988163</td>\n",
       "    </tr>\n",
       "    <tr>\n",
       "      <th>x5</th>\n",
       "      <td>0.934230</td>\n",
       "      <td>0.980720</td>\n",
       "      <td>0.994616</td>\n",
       "      <td>0.999065</td>\n",
       "      <td>1.000000</td>\n",
       "      <td>0.999465</td>\n",
       "      <td>0.998294</td>\n",
       "      <td>0.996860</td>\n",
       "      <td>0.995346</td>\n",
       "      <td>0.993839</td>\n",
       "    </tr>\n",
       "    <tr>\n",
       "      <th>x6</th>\n",
       "      <td>0.922665</td>\n",
       "      <td>0.973927</td>\n",
       "      <td>0.990719</td>\n",
       "      <td>0.997120</td>\n",
       "      <td>0.999465</td>\n",
       "      <td>1.000000</td>\n",
       "      <td>0.999669</td>\n",
       "      <td>0.998914</td>\n",
       "      <td>0.997959</td>\n",
       "      <td>0.996922</td>\n",
       "    </tr>\n",
       "    <tr>\n",
       "      <th>x7</th>\n",
       "      <td>0.913025</td>\n",
       "      <td>0.967905</td>\n",
       "      <td>0.986928</td>\n",
       "      <td>0.994845</td>\n",
       "      <td>0.998294</td>\n",
       "      <td>0.999669</td>\n",
       "      <td>1.000000</td>\n",
       "      <td>0.999782</td>\n",
       "      <td>0.999271</td>\n",
       "      <td>0.998608</td>\n",
       "    </tr>\n",
       "    <tr>\n",
       "      <th>x8</th>\n",
       "      <td>0.904883</td>\n",
       "      <td>0.962598</td>\n",
       "      <td>0.983393</td>\n",
       "      <td>0.992525</td>\n",
       "      <td>0.996860</td>\n",
       "      <td>0.998914</td>\n",
       "      <td>0.999782</td>\n",
       "      <td>1.000000</td>\n",
       "      <td>0.999850</td>\n",
       "      <td>0.999491</td>\n",
       "    </tr>\n",
       "    <tr>\n",
       "      <th>x9</th>\n",
       "      <td>0.897921</td>\n",
       "      <td>0.957918</td>\n",
       "      <td>0.980155</td>\n",
       "      <td>0.990281</td>\n",
       "      <td>0.995346</td>\n",
       "      <td>0.997959</td>\n",
       "      <td>0.999271</td>\n",
       "      <td>0.999850</td>\n",
       "      <td>1.000000</td>\n",
       "      <td>0.999893</td>\n",
       "    </tr>\n",
       "    <tr>\n",
       "      <th>x10</th>\n",
       "      <td>0.891902</td>\n",
       "      <td>0.953774</td>\n",
       "      <td>0.977207</td>\n",
       "      <td>0.988163</td>\n",
       "      <td>0.993839</td>\n",
       "      <td>0.996922</td>\n",
       "      <td>0.998608</td>\n",
       "      <td>0.999491</td>\n",
       "      <td>0.999893</td>\n",
       "      <td>1.000000</td>\n",
       "    </tr>\n",
       "  </tbody>\n",
       "</table>\n",
       "</div>"
      ],
      "text/plain": [
       "           x1        x2        x3        x4        x5        x6        x7  \\\n",
       "x1   1.000000  0.985344  0.965392  0.948277  0.934230  0.922665  0.913025   \n",
       "x2   0.985344  1.000000  0.995632  0.988183  0.980720  0.973927  0.967905   \n",
       "x3   0.965392  0.995632  1.000000  0.998160  0.994616  0.990719  0.986928   \n",
       "x4   0.948277  0.988183  0.998160  1.000000  0.999065  0.997120  0.994845   \n",
       "x5   0.934230  0.980720  0.994616  0.999065  1.000000  0.999465  0.998294   \n",
       "x6   0.922665  0.973927  0.990719  0.997120  0.999465  1.000000  0.999669   \n",
       "x7   0.913025  0.967905  0.986928  0.994845  0.998294  0.999669  1.000000   \n",
       "x8   0.904883  0.962598  0.983393  0.992525  0.996860  0.998914  0.999782   \n",
       "x9   0.897921  0.957918  0.980155  0.990281  0.995346  0.997959  0.999271   \n",
       "x10  0.891902  0.953774  0.977207  0.988163  0.993839  0.996922  0.998608   \n",
       "\n",
       "           x8        x9       x10  \n",
       "x1   0.904883  0.897921  0.891902  \n",
       "x2   0.962598  0.957918  0.953774  \n",
       "x3   0.983393  0.980155  0.977207  \n",
       "x4   0.992525  0.990281  0.988163  \n",
       "x5   0.996860  0.995346  0.993839  \n",
       "x6   0.998914  0.997959  0.996922  \n",
       "x7   0.999782  0.999271  0.998608  \n",
       "x8   1.000000  0.999850  0.999491  \n",
       "x9   0.999850  1.000000  0.999893  \n",
       "x10  0.999491  0.999893  1.000000  "
      ]
     },
     "execution_count": 5,
     "metadata": {},
     "output_type": "execute_result"
    }
   ],
   "source": [
    "\"\"\"计算希尔伯特矩阵每列数据的相关性系数\n",
    "\"\"\"\n",
    "import pandas as pd\n",
    "\n",
    "pd.DataFrame(x, columns=['x%d'%i for i in range(1,11)]).corr()"
   ]
  },
  {
   "cell_type": "markdown",
   "metadata": {},
   "source": [
    "如上所示，`10x10` 的希尔伯特矩阵中，每一列数据间都存在着较高的数值相关性。"
   ]
  },
  {
   "cell_type": "markdown",
   "metadata": {},
   "source": [
    "### 2.2最小二乘线性拟合"
   ]
  },
  {
   "cell_type": "markdown",
   "metadata": {},
   "source": [
    "上面由希尔伯特矩阵对应的示例数据集中，假设已知的 $x_{1}$ 到 $x_{10}$ 服从线性分布：\n",
    "\n",
    "$$ y= w_{1} * x_{1} + w_{2} * x_{2} +……+w_{10} * x_{10}\\tag7$$"
   ]
  },
  {
   "cell_type": "markdown",
   "metadata": {},
   "source": [
    "接下来我们先使用 NumPy 随机生成 `w` 参数，并得到实际对应的 `y` 值。"
   ]
  },
  {
   "cell_type": "code",
   "execution_count": 7,
   "metadata": {},
   "outputs": [
    {
     "name": "stdout",
     "output_type": "stream",
     "text": [
      "实际参数 w:  [3 7 6 9 2 3 5 6 3 7]\n",
      "实际函数值 y:  [14.14761905 10.1232684   8.12233045  6.8529637   5.95634643  5.28188478\n",
      "  4.75274309  4.32480306  3.97061256  3.67205737]\n"
     ]
    }
   ],
   "source": [
    "\"\"\"定义线性分布函数及实际参数\n",
    "\"\"\"\n",
    "from scipy.optimize import leastsq\n",
    "import numpy as np\n",
    "from scipy.linalg import hilbert\n",
    "\n",
    "x = hilbert(10) # 生成 10x10 的希尔伯特矩阵\n",
    "np.random.seed(10) # 随机数种子能保证每次生成的随机数一致\n",
    "w = np.random.randint(2,10,10) # 随机生成 w 系数\n",
    "y_temp = np.matrix(x) * np.matrix(w).T # 计算 y 值\n",
    "y = np.array(y_temp.T)[0] #将 y 值转换成 1 维行向量\n",
    "\n",
    "print(\"实际参数 w: \", w)\n",
    "print(\"实际函数值 y: \", y)"
   ]
  },
  {
   "cell_type": "markdown",
   "metadata": {},
   "source": [
    "接下来，我们便使用前面课程中学习到的最小二乘法对数据集进行线性拟合，并求出拟合得到的参数。"
   ]
  },
  {
   "cell_type": "code",
   "execution_count": 8,
   "metadata": {},
   "outputs": [
    {
     "name": "stdout",
     "output_type": "stream",
     "text": [
      "拟合参数 w:  [ 2.99597742e+00  7.15961429e+00  4.61038157e+00  1.28402721e+01\n",
      "  5.70279917e-01  5.01698396e-03 -1.65269884e+01  7.36451063e+01\n",
      " -6.34617952e+01  2.91675108e+01]\n"
     ]
    }
   ],
   "source": [
    "\"\"\"使用最小二乘法线性拟合\n",
    "\"\"\"\n",
    "func=lambda p,x: np.dot(x, p) # 函数公式\n",
    "err_func = lambda p, x, y: func(p, x)-y # 残差函数\n",
    "p_init=np.random.randint(1,2,10) # 全部参数初始化为 1\n",
    "\n",
    "parameters = leastsq(err_func, p_init, args=(x, y)) # 最小二乘法求解\n",
    "print(\"拟合参数 w: \",parameters[0])"
   ]
  },
  {
   "cell_type": "markdown",
   "metadata": {},
   "source": [
    "你会发现，实际参数 $w$ 和拟合参数 $w$ 差距非常大。这也就印证了普通最小二乘法的局限性。"
   ]
  },
  {
   "cell_type": "code",
   "execution_count": null,
   "metadata": {},
   "outputs": [],
   "source": []
  }
 ],
 "metadata": {
  "kernelspec": {
   "display_name": "Python 3",
   "language": "python",
   "name": "python3"
  },
  "language_info": {
   "codemirror_mode": {
    "name": "ipython",
    "version": 3
   },
   "file_extension": ".py",
   "mimetype": "text/x-python",
   "name": "python",
   "nbconvert_exporter": "python",
   "pygments_lexer": "ipython3",
   "version": "3.6.6"
  }
 },
 "nbformat": 4,
 "nbformat_minor": 2
}
