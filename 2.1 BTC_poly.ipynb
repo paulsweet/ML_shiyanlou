{
 "cells": [
  {
   "cell_type": "markdown",
   "metadata": {},
   "source": [
    "# 比特币价格预测挑战"
   ]
  },
  {
   "cell_type": "markdown",
   "metadata": {},
   "source": [
    "## 挑战介绍"
   ]
  },
  {
   "cell_type": "markdown",
   "metadata": {},
   "source": [
    "![bitcoin](https://ws1.sinaimg.cn/large/006tNbRwly1fvcmqupj7pj30c103lgm1.jpg)"
   ]
  },
  {
   "cell_type": "markdown",
   "metadata": {},
   "source": [
    "> 比特币（英语：Bitcoin，缩写：BTC）被部分观点认为是一种去中心化，非普遍全球可支付的电子加密货币，而多数国家则认为比特币属于虚拟商品，并非货币。比特币由中本聪（化名）于 2009 年 1 月 3 日，基于无国界的对等网络，用共识主动性开源软件发明创立。自比特币出现至今为止，比特币一直是目前法币市场总值最高的加密货币。([维基百科](https://zh.wikipedia.org/wiki/%E6%AF%94%E7%89%B9%E5%B8%81))\n",
    "\n",
    "一段时间以来，比特币的价值饱受质疑。有人认为是严重的「泡沫」，也有人认为是物有所值。但无论哪一种观点，我们都见证了比特币暴涨暴跌。本次挑战收集到了 `2010-2018` 年比特币历史数据。其中包含交易价格、区块数量、交易费率等信息。我们将尝试使用多项式回归和岭回归方法来预测比特币价格变化趋势。"
   ]
  },
  {
   "cell_type": "code",
   "execution_count": 150,
   "metadata": {},
   "outputs": [],
   "source": [
    "# 先导入常用分析的依赖包\n",
    "import numpy as np\n",
    "import pandas as pd\n",
    "from matplotlib import pyplot as plt\n",
    "%matplotlib inline"
   ]
  },
  {
   "cell_type": "code",
   "execution_count": 151,
   "metadata": {},
   "outputs": [
    {
     "name": "stdout",
     "output_type": "stream",
     "text": [
      "--2018-09-18 14:47:03--  http://labfile.oss.aliyuncs.com/courses/1081/challenge-2-bitcoin.csv\n",
      "Resolving labfile.oss.aliyuncs.com (labfile.oss.aliyuncs.com)... 118.178.161.16\n",
      "Connecting to labfile.oss.aliyuncs.com (labfile.oss.aliyuncs.com)|118.178.161.16|:80... connected.\n",
      "HTTP request sent, awaiting response... 200 OK\n",
      "Length: 764011 (746K) [text/csv]\n",
      "Saving to: ‘challenge-2-bitcoin.csv.1’\n",
      "\n",
      "challenge-2-bitcoin 100%[===================>] 746.10K   735KB/s    in 1.0s    \n",
      "\n",
      "2018-09-18 14:47:39 (735 KB/s) - ‘challenge-2-bitcoin.csv.1’ saved [764011/764011]\n",
      "\n"
     ]
    }
   ],
   "source": [
    "# 下载数据\n",
    "!wget http://labfile.oss.aliyuncs.com/courses/1081/challenge-2-bitcoin.csv"
   ]
  },
  {
   "cell_type": "code",
   "execution_count": 152,
   "metadata": {},
   "outputs": [
    {
     "data": {
      "text/html": [
       "<div>\n",
       "<style scoped>\n",
       "    .dataframe tbody tr th:only-of-type {\n",
       "        vertical-align: middle;\n",
       "    }\n",
       "\n",
       "    .dataframe tbody tr th {\n",
       "        vertical-align: top;\n",
       "    }\n",
       "\n",
       "    .dataframe thead th {\n",
       "        text-align: right;\n",
       "    }\n",
       "</style>\n",
       "<table border=\"1\" class=\"dataframe\">\n",
       "  <thead>\n",
       "    <tr style=\"text-align: right;\">\n",
       "      <th></th>\n",
       "      <th>Date</th>\n",
       "      <th>btc_market_price</th>\n",
       "      <th>btc_total_bitcoins</th>\n",
       "      <th>btc_market_cap</th>\n",
       "      <th>btc_trade_volume</th>\n",
       "      <th>btc_blocks_size</th>\n",
       "      <th>btc_avg_block_size</th>\n",
       "      <th>btc_n_orphaned_blocks</th>\n",
       "      <th>btc_n_transactions_per_block</th>\n",
       "      <th>btc_median_confirmation_time</th>\n",
       "      <th>...</th>\n",
       "      <th>btc_cost_per_transaction_percent</th>\n",
       "      <th>btc_cost_per_transaction</th>\n",
       "      <th>btc_n_unique_addresses</th>\n",
       "      <th>btc_n_transactions</th>\n",
       "      <th>btc_n_transactions_total</th>\n",
       "      <th>btc_n_transactions_excluding_popular</th>\n",
       "      <th>btc_n_transactions_excluding_chains_longer_than_100</th>\n",
       "      <th>btc_output_volume</th>\n",
       "      <th>btc_estimated_transaction_volume</th>\n",
       "      <th>btc_estimated_transaction_volume_usd</th>\n",
       "    </tr>\n",
       "  </thead>\n",
       "  <tbody>\n",
       "    <tr>\n",
       "      <th>0</th>\n",
       "      <td>2010-02-23 00:00:00</td>\n",
       "      <td>0.0</td>\n",
       "      <td>2110700.0</td>\n",
       "      <td>0.0</td>\n",
       "      <td>0.0</td>\n",
       "      <td>0.0</td>\n",
       "      <td>0.000216</td>\n",
       "      <td>0.0</td>\n",
       "      <td>1.0</td>\n",
       "      <td>0.0</td>\n",
       "      <td>...</td>\n",
       "      <td>25100.000000</td>\n",
       "      <td>0.0</td>\n",
       "      <td>252.0</td>\n",
       "      <td>252.0</td>\n",
       "      <td>42613.0</td>\n",
       "      <td>252.0</td>\n",
       "      <td>252.0</td>\n",
       "      <td>12600.0</td>\n",
       "      <td>50.0</td>\n",
       "      <td>0.0</td>\n",
       "    </tr>\n",
       "    <tr>\n",
       "      <th>1</th>\n",
       "      <td>2010-02-24 00:00:00</td>\n",
       "      <td>0.0</td>\n",
       "      <td>2120200.0</td>\n",
       "      <td>0.0</td>\n",
       "      <td>0.0</td>\n",
       "      <td>0.0</td>\n",
       "      <td>0.000282</td>\n",
       "      <td>0.0</td>\n",
       "      <td>1.0</td>\n",
       "      <td>0.0</td>\n",
       "      <td>...</td>\n",
       "      <td>179.245283</td>\n",
       "      <td>0.0</td>\n",
       "      <td>195.0</td>\n",
       "      <td>196.0</td>\n",
       "      <td>42809.0</td>\n",
       "      <td>196.0</td>\n",
       "      <td>196.0</td>\n",
       "      <td>14800.0</td>\n",
       "      <td>5300.0</td>\n",
       "      <td>0.0</td>\n",
       "    </tr>\n",
       "    <tr>\n",
       "      <th>2</th>\n",
       "      <td>2010-02-25 00:00:00</td>\n",
       "      <td>0.0</td>\n",
       "      <td>2127600.0</td>\n",
       "      <td>0.0</td>\n",
       "      <td>0.0</td>\n",
       "      <td>0.0</td>\n",
       "      <td>0.000227</td>\n",
       "      <td>0.0</td>\n",
       "      <td>1.0</td>\n",
       "      <td>0.0</td>\n",
       "      <td>...</td>\n",
       "      <td>1057.142857</td>\n",
       "      <td>0.0</td>\n",
       "      <td>150.0</td>\n",
       "      <td>150.0</td>\n",
       "      <td>42959.0</td>\n",
       "      <td>150.0</td>\n",
       "      <td>150.0</td>\n",
       "      <td>8100.0</td>\n",
       "      <td>700.0</td>\n",
       "      <td>0.0</td>\n",
       "    </tr>\n",
       "    <tr>\n",
       "      <th>3</th>\n",
       "      <td>2010-02-26 00:00:00</td>\n",
       "      <td>0.0</td>\n",
       "      <td>2136100.0</td>\n",
       "      <td>0.0</td>\n",
       "      <td>0.0</td>\n",
       "      <td>0.0</td>\n",
       "      <td>0.000319</td>\n",
       "      <td>0.0</td>\n",
       "      <td>1.0</td>\n",
       "      <td>0.0</td>\n",
       "      <td>...</td>\n",
       "      <td>64.582059</td>\n",
       "      <td>0.0</td>\n",
       "      <td>176.0</td>\n",
       "      <td>176.0</td>\n",
       "      <td>43135.0</td>\n",
       "      <td>176.0</td>\n",
       "      <td>176.0</td>\n",
       "      <td>29349.0</td>\n",
       "      <td>13162.0</td>\n",
       "      <td>0.0</td>\n",
       "    </tr>\n",
       "    <tr>\n",
       "      <th>4</th>\n",
       "      <td>2010-02-27 00:00:00</td>\n",
       "      <td>0.0</td>\n",
       "      <td>2144750.0</td>\n",
       "      <td>0.0</td>\n",
       "      <td>0.0</td>\n",
       "      <td>0.0</td>\n",
       "      <td>0.000223</td>\n",
       "      <td>0.0</td>\n",
       "      <td>1.0</td>\n",
       "      <td>0.0</td>\n",
       "      <td>...</td>\n",
       "      <td>1922.222222</td>\n",
       "      <td>0.0</td>\n",
       "      <td>176.0</td>\n",
       "      <td>176.0</td>\n",
       "      <td>43311.0</td>\n",
       "      <td>176.0</td>\n",
       "      <td>176.0</td>\n",
       "      <td>9101.0</td>\n",
       "      <td>450.0</td>\n",
       "      <td>0.0</td>\n",
       "    </tr>\n",
       "  </tbody>\n",
       "</table>\n",
       "<p>5 rows × 24 columns</p>\n",
       "</div>"
      ],
      "text/plain": [
       "                  Date  btc_market_price  btc_total_bitcoins  btc_market_cap  \\\n",
       "0  2010-02-23 00:00:00               0.0           2110700.0             0.0   \n",
       "1  2010-02-24 00:00:00               0.0           2120200.0             0.0   \n",
       "2  2010-02-25 00:00:00               0.0           2127600.0             0.0   \n",
       "3  2010-02-26 00:00:00               0.0           2136100.0             0.0   \n",
       "4  2010-02-27 00:00:00               0.0           2144750.0             0.0   \n",
       "\n",
       "   btc_trade_volume  btc_blocks_size  btc_avg_block_size  \\\n",
       "0               0.0              0.0            0.000216   \n",
       "1               0.0              0.0            0.000282   \n",
       "2               0.0              0.0            0.000227   \n",
       "3               0.0              0.0            0.000319   \n",
       "4               0.0              0.0            0.000223   \n",
       "\n",
       "   btc_n_orphaned_blocks  btc_n_transactions_per_block  \\\n",
       "0                    0.0                           1.0   \n",
       "1                    0.0                           1.0   \n",
       "2                    0.0                           1.0   \n",
       "3                    0.0                           1.0   \n",
       "4                    0.0                           1.0   \n",
       "\n",
       "   btc_median_confirmation_time                  ...                   \\\n",
       "0                           0.0                  ...                    \n",
       "1                           0.0                  ...                    \n",
       "2                           0.0                  ...                    \n",
       "3                           0.0                  ...                    \n",
       "4                           0.0                  ...                    \n",
       "\n",
       "   btc_cost_per_transaction_percent  btc_cost_per_transaction  \\\n",
       "0                      25100.000000                       0.0   \n",
       "1                        179.245283                       0.0   \n",
       "2                       1057.142857                       0.0   \n",
       "3                         64.582059                       0.0   \n",
       "4                       1922.222222                       0.0   \n",
       "\n",
       "   btc_n_unique_addresses  btc_n_transactions  btc_n_transactions_total  \\\n",
       "0                   252.0               252.0                   42613.0   \n",
       "1                   195.0               196.0                   42809.0   \n",
       "2                   150.0               150.0                   42959.0   \n",
       "3                   176.0               176.0                   43135.0   \n",
       "4                   176.0               176.0                   43311.0   \n",
       "\n",
       "   btc_n_transactions_excluding_popular  \\\n",
       "0                                 252.0   \n",
       "1                                 196.0   \n",
       "2                                 150.0   \n",
       "3                                 176.0   \n",
       "4                                 176.0   \n",
       "\n",
       "   btc_n_transactions_excluding_chains_longer_than_100  btc_output_volume  \\\n",
       "0                                              252.0              12600.0   \n",
       "1                                              196.0              14800.0   \n",
       "2                                              150.0               8100.0   \n",
       "3                                              176.0              29349.0   \n",
       "4                                              176.0               9101.0   \n",
       "\n",
       "   btc_estimated_transaction_volume  btc_estimated_transaction_volume_usd  \n",
       "0                              50.0                                   0.0  \n",
       "1                            5300.0                                   0.0  \n",
       "2                             700.0                                   0.0  \n",
       "3                           13162.0                                   0.0  \n",
       "4                             450.0                                   0.0  \n",
       "\n",
       "[5 rows x 24 columns]"
      ]
     },
     "execution_count": 152,
     "metadata": {},
     "output_type": "execute_result"
    }
   ],
   "source": [
    "df = pd.read_csv('challenge-2-bitcoin.csv')\n",
    "df.head()"
   ]
  },
  {
   "cell_type": "code",
   "execution_count": 153,
   "metadata": {},
   "outputs": [
    {
     "data": {
      "text/html": [
       "<div>\n",
       "<style scoped>\n",
       "    .dataframe tbody tr th:only-of-type {\n",
       "        vertical-align: middle;\n",
       "    }\n",
       "\n",
       "    .dataframe tbody tr th {\n",
       "        vertical-align: top;\n",
       "    }\n",
       "\n",
       "    .dataframe thead th {\n",
       "        text-align: right;\n",
       "    }\n",
       "</style>\n",
       "<table border=\"1\" class=\"dataframe\">\n",
       "  <thead>\n",
       "    <tr style=\"text-align: right;\">\n",
       "      <th></th>\n",
       "      <th>btc_market_price</th>\n",
       "      <th>btc_total_bitcoins</th>\n",
       "      <th>btc_transaction_fees</th>\n",
       "    </tr>\n",
       "  </thead>\n",
       "  <tbody>\n",
       "    <tr>\n",
       "      <th>0</th>\n",
       "      <td>0.0</td>\n",
       "      <td>2110700.0</td>\n",
       "      <td>0.0</td>\n",
       "    </tr>\n",
       "    <tr>\n",
       "      <th>1</th>\n",
       "      <td>0.0</td>\n",
       "      <td>2120200.0</td>\n",
       "      <td>0.0</td>\n",
       "    </tr>\n",
       "    <tr>\n",
       "      <th>2</th>\n",
       "      <td>0.0</td>\n",
       "      <td>2127600.0</td>\n",
       "      <td>0.0</td>\n",
       "    </tr>\n",
       "    <tr>\n",
       "      <th>3</th>\n",
       "      <td>0.0</td>\n",
       "      <td>2136100.0</td>\n",
       "      <td>0.0</td>\n",
       "    </tr>\n",
       "    <tr>\n",
       "      <th>4</th>\n",
       "      <td>0.0</td>\n",
       "      <td>2144750.0</td>\n",
       "      <td>0.0</td>\n",
       "    </tr>\n",
       "  </tbody>\n",
       "</table>\n",
       "</div>"
      ],
      "text/plain": [
       "   btc_market_price  btc_total_bitcoins  btc_transaction_fees\n",
       "0               0.0           2110700.0                   0.0\n",
       "1               0.0           2120200.0                   0.0\n",
       "2               0.0           2127600.0                   0.0\n",
       "3               0.0           2136100.0                   0.0\n",
       "4               0.0           2144750.0                   0.0"
      ]
     },
     "execution_count": 153,
     "metadata": {},
     "output_type": "execute_result"
    }
   ],
   "source": [
    "# 选取三列\n",
    "data = df[['btc_market_price','btc_total_bitcoins','btc_transaction_fees']]\n",
    "data.head()"
   ]
  },
  {
   "cell_type": "markdown",
   "metadata": {},
   "source": [
    "---"
   ]
  },
  {
   "cell_type": "markdown",
   "metadata": {},
   "source": [
    "**<font color='red'>挑战</font>：分别绘制 `data` 数据集 3 列数据的线形图，并以横向子图排列。**<br>\n",
    "**<font color='brown'>要求</font>**：需设置各图横纵轴名称，横轴统一为 `time`，纵轴为各自列名称。<br>\n",
    "**<font color='green'>提示</font>**：使用 `set_xlabel()` 设置横轴名称。"
   ]
  },
  {
   "cell_type": "code",
   "execution_count": 154,
   "metadata": {},
   "outputs": [
    {
     "data": {
      "image/png": "[encoded data removed]",
      "text/plain": [
       "<Figure size 1224x360 with 3 Axes>"
      ]
     },
     "metadata": {},
     "output_type": "display_data"
    }
   ],
   "source": [
    "'''绘制图像\n",
    "'''\n",
    "fig,ax = plt.subplots(1,3,figsize=(17,5))\n",
    "\n",
    "# ax[0].plot(data.index,data.iloc[:,i],color='red')\n",
    "# ax[0].set_xlabel('time')\n",
    "# ax[0].set_ylabel(data.columns[0])\n",
    "\n",
    "colors=['#87CEEB','#FFC0CB','#808000']\n",
    "for i in range(0,3):\n",
    "    ax[i].plot(data.index,data.iloc[:,i],colors[i])\n",
    "    ax[i].set_xlabel('time')\n",
    "    ax[i].set_ylabel(data.columns[i])"
   ]
  },
  {
   "cell_type": "markdown",
   "metadata": {},
   "source": [
    "本次挑战中，数据集的特征（features）是`比特币总量`和`比特币交易费用`，而目标值为`比特币市场价格`。所以，下面将数据集拆分为训练集和测试集。其中，训练集占 `70%`，而测试集占 `30%`。"
   ]
  },
  {
   "cell_type": "markdown",
   "metadata": {},
   "source": [
    "---"
   ]
  },
  {
   "cell_type": "markdown",
   "metadata": {},
   "source": [
    "**<font color='red'>挑战</font>：划分 `data` 数据集，使得训练集占 `70%`，而测试集占 `30%`。**"
   ]
  },
  {
   "cell_type": "markdown",
   "metadata": {},
   "source": [
    "**<font color='brown'>要求</font>**：训练集特征、训练集目标、测试集特征、测试集目标分别定义为 `train_x`, `train_y`, `test_x`, `test_y`，并作为 `split_dataset()` 函数返回值。"
   ]
  },
  {
   "cell_type": "code",
   "execution_count": 155,
   "metadata": {},
   "outputs": [],
   "source": [
    "\"\"\"划分数据集函数\n",
    "\"\"\"\n",
    "\n",
    "def split_dataset(k,data):\n",
    "    \"\"\"\n",
    "    参数:\n",
    "    k:表示训练集占k%,测试集(1-k)%\n",
    "\n",
    "    返回:\n",
    "    train_x, train_y, test_x, test_y -- 训练集特征、训练集目标、测试集特征、测试集目标\n",
    "    \"\"\"\n",
    "    split_num = int(round(data.shape[0]*k/100))  #划分数\n",
    "    \n",
    "    x = data.iloc[:,1:3]\n",
    "    y = data.iloc[:,0]\n",
    "    \n",
    "    train_x = x.iloc[:split_num,:]    #注意这里划分训练集和测试集都是针对行来划分的\n",
    "    test_x = x.iloc[split_num:,:]\n",
    "    \n",
    "    train_y = y.iloc[:split_num]\n",
    "    test_y = y.iloc[split_num:]\n",
    "    \n",
    "    return train_x, train_y, test_x, test_y\n",
    "\n",
    "# 小结，1.split_num必须是int\n",
    "#      2.注意 一维的y,是无法用两维的slice!!!"
   ]
  },
  {
   "cell_type": "markdown",
   "metadata": {},
   "source": [
    "### n 次多项式回归预测挑战"
   ]
  },
  {
   "cell_type": "markdown",
   "metadata": {},
   "source": [
    "划分完训练数据和测试数据之后，就可以构建多项式回归预测模型。挑战要求使用 scikit-learn 完成。"
   ]
  },
  {
   "cell_type": "code",
   "execution_count": 156,
   "metadata": {},
   "outputs": [],
   "source": [
    "# 加载必要模块\n",
    "from sklearn.preprocessing import PolynomialFeatures\n",
    "from sklearn.linear_model import LinearRegression\n",
    "from sklearn.metrics import mean_absolute_error\n",
    "from sklearn.metrics import mean_squared_error"
   ]
  },
  {
   "cell_type": "code",
   "execution_count": 157,
   "metadata": {},
   "outputs": [],
   "source": [
    "#加载数据集\n",
    "train_x = split_dataset(70,data=data)[0]\n",
    "train_y = split_dataset(70,data=data)[1]\n",
    "test_x = split_dataset(70,data=data)[2]\n",
    "test_y = split_dataset(70,data=data)[3]"
   ]
  },
  {
   "cell_type": "code",
   "execution_count": 184,
   "metadata": {},
   "outputs": [
    {
     "data": {
      "text/plain": [
       "(2920, 3)"
      ]
     },
     "execution_count": 184,
     "metadata": {},
     "output_type": "execute_result"
    }
   ],
   "source": [
    "train_x.shape\n",
    "test_y.shape\n",
    "data.shape"
   ]
  },
  {
   "cell_type": "markdown",
   "metadata": {},
   "source": [
    "---"
   ]
  },
  {
   "cell_type": "markdown",
   "metadata": {},
   "source": [
    "**<font color='red'>挑战</font>：构建 n 次多项式回归预测模型**"
   ]
  },
  {
   "cell_type": "markdown",
   "metadata": {},
   "source": [
    "**<font color='brown'>要求</font>**：使用 scikit-learn 构建 n 次多项式回归预测模型，并计算预测结果的 MAE 评价指标，同时作为 `poly_n()` 函数返回值。"
   ]
  },
  {
   "cell_type": "code",
   "execution_count": 177,
   "metadata": {},
   "outputs": [],
   "source": [
    "# 先用make_pipline写一个流，然后再写个 polyn\n",
    "\n",
    "from sklearn.pipeline import make_pipeline\n",
    "def array_reshape(x):\n",
    "    \"\"\"\n",
    "    将对应的训练集和测试集转成 np.array格式\n",
    "    \"\"\"\n",
    "    x_reshape = np.array(x)\n",
    "    return x_reshape\n",
    "\n",
    "def poly_n(n,train_x,train_y,test_x,test_y):\n",
    "    \"\"\"\n",
    "    输入参数：\n",
    "    train_x,train_y,test_x,test_y\n",
    "    \n",
    "    返回：\n",
    "    \"\"\"\n",
    "    train_x = array_reshape(train_x)\n",
    "    train_y = array_reshape(train_y)\n",
    "    test_x = array_reshape(test_x)\n",
    "    test_y = array_reshape(test_y)\n",
    "\n",
    "#     para = PolynomialFeatures(degree=n,include_bias=False)\n",
    "#     poly_x = para.fit_transform(x_reshape)\n",
    "    \n",
    "#     model = LinearRegression()\n",
    "#     model.fit(poly_x,y)\n",
    "    # 这里用make_pipeline改写\n",
    "    # from sklearn.pipeline import make_pipeline\n",
    "    \n",
    "    model = make_pipeline(PolynomialFeatures(n, include_bias=False), LinearRegression())\n",
    "    model.fit(train_x,train_y)\n",
    "    pre_y = model.predict(test_x)\n",
    "    \n",
    "#     mae = mean_absolute_error(test_y.flatten(),pre_y.flatten())\n",
    "    mse = mean_squared_error(test_y.flatten(),pre_y.flatten())\n",
    "    return mse, model"
   ]
  },
  {
   "cell_type": "code",
   "execution_count": 178,
   "metadata": {},
   "outputs": [
    {
     "data": {
      "text/plain": [
       "(16328564.107947402, Pipeline(memory=None,\n",
       "      steps=[('polynomialfeatures', PolynomialFeatures(degree=2, include_bias=False, interaction_only=False)), ('linearregression', LinearRegression(copy_X=True, fit_intercept=True, n_jobs=1, normalize=False))]))"
      ]
     },
     "execution_count": 178,
     "metadata": {},
     "output_type": "execute_result"
    }
   ],
   "source": [
    "# 测试一下\n",
    "poly_n(2,train_x,train_y,test_x,test_y)"
   ]
  },
  {
   "cell_type": "code",
   "execution_count": 193,
   "metadata": {},
   "outputs": [
    {
     "name": "stdout",
     "output_type": "stream",
     "text": [
      "2 : 13999821.66000822\n"
     ]
    },
    {
     "data": {
      "text/plain": [
       "[<matplotlib.lines.Line2D at 0x7f591aea16d8>]"
      ]
     },
     "execution_count": 193,
     "metadata": {},
     "output_type": "execute_result"
    },
    {
     "data": {
      "image/png": "[encoded data removed]",
      "text/plain": [
       "<Figure size 1008x360 with 2 Axes>"
      ]
     },
     "metadata": {},
     "output_type": "display_data"
    }
   ],
   "source": [
    "mse_list=[]\n",
    "for i in range(1,10):\n",
    "    mse_list.append(poly_n(i,train_x,train_y,test_x,test_y)[0])\n",
    "print(mse_list.index(min(mse_list)),\":\",min(mse_list)) # 可用format改进一下\n",
    "\n",
    "fig,ax = plt.subplots(1,2,figsize=(14,5))\n",
    "\n",
    "ax[0].plot(np.arange(1,7),mse_list[0:6])\n",
    "ax[0].set_ylabel('MSE')\n",
    "ax[0].scatter(np.arange(1,7),mse_list[0:6],color='red')\n",
    "\n",
    "# x_tmp=np.linspace(2044,2920,10000)\n",
    "model = poly_n(2,train_x,train_y,test_x,test_y)[1]\n",
    "ax[1].plot(np.array(test_y),'r')\n",
    "ax[1].plot(model.predict(test_x))"
   ]
  },
  {
   "cell_type": "code",
   "execution_count": null,
   "metadata": {},
   "outputs": [],
   "source": []
  },
  {
   "cell_type": "code",
   "execution_count": null,
   "metadata": {},
   "outputs": [],
   "source": []
  }
 ],
 "metadata": {
  "kernelspec": {
   "display_name": "Python 3",
   "language": "python",
   "name": "python3"
  },
  "language_info": {
   "codemirror_mode": {
    "name": "ipython",
    "version": 3
   },
   "file_extension": ".py",
   "mimetype": "text/x-python",
   "name": "python",
   "nbconvert_exporter": "python",
   "pygments_lexer": "ipython3",
   "version": "3.6.6"
  }
 },
 "nbformat": 4,
 "nbformat_minor": 2
}
